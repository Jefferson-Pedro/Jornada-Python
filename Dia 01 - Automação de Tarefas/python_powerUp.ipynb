{
 "cells": [
  {
   "cell_type": "markdown",
   "metadata": {},
   "source": [
    "## Instalação de bibliotecas"
   ]
  },
  {
   "cell_type": "code",
   "execution_count": 18,
   "metadata": {},
   "outputs": [],
   "source": [
    "# https://pyautogui.readthedocs.io/en/latest/quickstart.html\n",
    "# !pip install pyautogui"
   ]
  },
  {
   "cell_type": "markdown",
   "metadata": {},
   "source": [
    "## Importação de bibliotecas"
   ]
  },
  {
   "cell_type": "code",
   "execution_count": 19,
   "metadata": {},
   "outputs": [],
   "source": [
    "import pyautogui as pg\n",
    "import time"
   ]
  },
  {
   "cell_type": "markdown",
   "metadata": {},
   "source": [
    "## Lógica de Negócios"
   ]
  },
  {
   "cell_type": "markdown",
   "metadata": {},
   "source": [
    "### 1- Entrar no sistema da empresa."
   ]
  },
  {
   "cell_type": "code",
   "execution_count": 20,
   "metadata": {},
   "outputs": [],
   "source": [
    "pg.PAUSE = 1 #tempo de espera entre os comandos\n",
    "\n",
    "pg.press('win')\n",
    "pg.write('edge')\n",
    "pg.press('enter')\n",
    "pg.write('https://dlp.hashtagtreinamentos.com/python/intensivao/login')\n",
    "pg.press('enter')\n",
    "\n",
    "#tempo de espera para carregar a página\n",
    "time.sleep(3) "
   ]
  },
  {
   "cell_type": "markdown",
   "metadata": {},
   "source": [
    "### 2- Fazer Login"
   ]
  },
  {
   "cell_type": "code",
   "execution_count": 21,
   "metadata": {},
   "outputs": [],
   "source": [
    "#clicar na tela para garantir que o cursor está no lugar certo\n",
    "pg.click(x=820, y=460)\n",
    "pg.write('jeffersonpedro05@gmail.com')\n",
    "pg.press('tab')\n",
    "# pg.click(x=768, y=585) ou posso usar o clique relativo\n",
    "pg.write('123456')\n",
    "\n",
    "pg.press('tab')\n",
    "pg.press('enter')"
   ]
  },
  {
   "cell_type": "markdown",
   "metadata": {},
   "source": [
    "### 3- Importar a base de dados"
   ]
  },
  {
   "cell_type": "code",
   "execution_count": null,
   "metadata": {},
   "outputs": [],
   "source": []
  }
 ],
 "metadata": {
  "kernelspec": {
   "display_name": "Python 3",
   "language": "python",
   "name": "python3"
  },
  "language_info": {
   "codemirror_mode": {
    "name": "ipython",
    "version": 3
   },
   "file_extension": ".py",
   "mimetype": "text/x-python",
   "name": "python",
   "nbconvert_exporter": "python",
   "pygments_lexer": "ipython3",
   "version": "3.12.3"
  }
 },
 "nbformat": 4,
 "nbformat_minor": 2
}
