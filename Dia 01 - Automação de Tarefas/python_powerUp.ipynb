{
 "cells": [
  {
   "cell_type": "markdown",
   "metadata": {},
   "source": [
    "## Instalação de bibliotecas"
   ]
  },
  {
   "cell_type": "code",
   "execution_count": 37,
   "metadata": {},
   "outputs": [],
   "source": [
    "# https://pyautogui.readthedocs.io/en/latest/quickstart.html\n",
    "# !pip install pyautogui\n",
    "# !pip install openpyxl\n",
    "# !pip install pandas"
   ]
  },
  {
   "cell_type": "markdown",
   "metadata": {},
   "source": [
    "## Importação de bibliotecas"
   ]
  },
  {
   "cell_type": "code",
   "execution_count": 38,
   "metadata": {},
   "outputs": [],
   "source": [
    "import pyautogui as pg\n",
    "import time\n",
    "import pandas as pd\n"
   ]
  },
  {
   "cell_type": "markdown",
   "metadata": {},
   "source": [
    "## Lógica de Negócios"
   ]
  },
  {
   "cell_type": "markdown",
   "metadata": {},
   "source": [
    "### 1- Entrar no sistema da empresa."
   ]
  },
  {
   "cell_type": "code",
   "execution_count": 39,
   "metadata": {},
   "outputs": [],
   "source": [
    "pg.PAUSE = 1 #tempo de espera entre os comandos\n",
    "\n",
    "pg.press('win')\n",
    "pg.write('edge')\n",
    "pg.press('enter')\n",
    "pg.write('https://dlp.hashtagtreinamentos.com/python/intensivao/login')\n",
    "pg.press('enter')\n",
    "\n",
    "#tempo de espera para carregar a página\n",
    "time.sleep(3) "
   ]
  },
  {
   "cell_type": "markdown",
   "metadata": {},
   "source": [
    "### 2- Fazer Login"
   ]
  },
  {
   "cell_type": "code",
   "execution_count": 40,
   "metadata": {},
   "outputs": [],
   "source": [
    "#clicar na tela para garantir que o cursor está no lugar certo\n",
    "pg.click(x=820, y=460)\n",
    "pg.write('jeffersonpedro05@gmail.com')\n",
    "pg.press('tab')\n",
    "# pg.click(x=768, y=585) ou posso usar o clique relativo\n",
    "pg.write('123456')\n",
    "\n",
    "pg.press('tab')\n",
    "pg.press('enter')"
   ]
  },
  {
   "cell_type": "markdown",
   "metadata": {},
   "source": [
    "### 3- Importar a base de dados"
   ]
  },
  {
   "cell_type": "code",
   "execution_count": 41,
   "metadata": {},
   "outputs": [
    {
     "data": {
      "text/html": [
       "<div>\n",
       "<style scoped>\n",
       "    .dataframe tbody tr th:only-of-type {\n",
       "        vertical-align: middle;\n",
       "    }\n",
       "\n",
       "    .dataframe tbody tr th {\n",
       "        vertical-align: top;\n",
       "    }\n",
       "\n",
       "    .dataframe thead th {\n",
       "        text-align: right;\n",
       "    }\n",
       "</style>\n",
       "<table border=\"1\" class=\"dataframe\">\n",
       "  <thead>\n",
       "    <tr style=\"text-align: right;\">\n",
       "      <th></th>\n",
       "      <th>codigo</th>\n",
       "      <th>marca</th>\n",
       "      <th>tipo</th>\n",
       "      <th>categoria</th>\n",
       "      <th>preco_unitario</th>\n",
       "      <th>custo</th>\n",
       "      <th>obs</th>\n",
       "    </tr>\n",
       "  </thead>\n",
       "  <tbody>\n",
       "    <tr>\n",
       "      <th>0</th>\n",
       "      <td>MOLO000251</td>\n",
       "      <td>Logitech</td>\n",
       "      <td>Mouse</td>\n",
       "      <td>1</td>\n",
       "      <td>25.95</td>\n",
       "      <td>6.5</td>\n",
       "      <td>NaN</td>\n",
       "    </tr>\n",
       "    <tr>\n",
       "      <th>1</th>\n",
       "      <td>MOLO000192</td>\n",
       "      <td>Logitech</td>\n",
       "      <td>Mouse</td>\n",
       "      <td>2</td>\n",
       "      <td>19.95</td>\n",
       "      <td>5.0</td>\n",
       "      <td>NaN</td>\n",
       "    </tr>\n",
       "    <tr>\n",
       "      <th>2</th>\n",
       "      <td>CAHA000251</td>\n",
       "      <td>Hashtag</td>\n",
       "      <td>Camisa</td>\n",
       "      <td>1</td>\n",
       "      <td>25.00</td>\n",
       "      <td>11.0</td>\n",
       "      <td>NaN</td>\n",
       "    </tr>\n",
       "    <tr>\n",
       "      <th>3</th>\n",
       "      <td>CAHA000252</td>\n",
       "      <td>Hashtag</td>\n",
       "      <td>Camisa</td>\n",
       "      <td>2</td>\n",
       "      <td>25.00</td>\n",
       "      <td>11.0</td>\n",
       "      <td>Conferir estoque</td>\n",
       "    </tr>\n",
       "    <tr>\n",
       "      <th>4</th>\n",
       "      <td>MOMU000111</td>\n",
       "      <td>Multilaser</td>\n",
       "      <td>Mouse</td>\n",
       "      <td>1</td>\n",
       "      <td>11.99</td>\n",
       "      <td>3.4</td>\n",
       "      <td>NaN</td>\n",
       "    </tr>\n",
       "    <tr>\n",
       "      <th>...</th>\n",
       "      <td>...</td>\n",
       "      <td>...</td>\n",
       "      <td>...</td>\n",
       "      <td>...</td>\n",
       "      <td>...</td>\n",
       "      <td>...</td>\n",
       "      <td>...</td>\n",
       "    </tr>\n",
       "    <tr>\n",
       "      <th>288</th>\n",
       "      <td>ACAP000192</td>\n",
       "      <td>Apple</td>\n",
       "      <td>Acessorios</td>\n",
       "      <td>2</td>\n",
       "      <td>19.00</td>\n",
       "      <td>3.8</td>\n",
       "      <td>NaN</td>\n",
       "    </tr>\n",
       "    <tr>\n",
       "      <th>289</th>\n",
       "      <td>ACSA0009.3</td>\n",
       "      <td>Samsung</td>\n",
       "      <td>Acessorios</td>\n",
       "      <td>3</td>\n",
       "      <td>9.55</td>\n",
       "      <td>2.1</td>\n",
       "      <td>NaN</td>\n",
       "    </tr>\n",
       "    <tr>\n",
       "      <th>290</th>\n",
       "      <td>CEMO000271</td>\n",
       "      <td>Motorola</td>\n",
       "      <td>Celular</td>\n",
       "      <td>1</td>\n",
       "      <td>279.00</td>\n",
       "      <td>72.5</td>\n",
       "      <td>NaN</td>\n",
       "    </tr>\n",
       "    <tr>\n",
       "      <th>291</th>\n",
       "      <td>FOMO000152</td>\n",
       "      <td>Motorola</td>\n",
       "      <td>Fone</td>\n",
       "      <td>2</td>\n",
       "      <td>150.00</td>\n",
       "      <td>33.0</td>\n",
       "      <td>NaN</td>\n",
       "    </tr>\n",
       "    <tr>\n",
       "      <th>292</th>\n",
       "      <td>CEMO000223</td>\n",
       "      <td>Motorola</td>\n",
       "      <td>Celular</td>\n",
       "      <td>3</td>\n",
       "      <td>229.00</td>\n",
       "      <td>55.0</td>\n",
       "      <td>NaN</td>\n",
       "    </tr>\n",
       "  </tbody>\n",
       "</table>\n",
       "<p>293 rows × 7 columns</p>\n",
       "</div>"
      ],
      "text/plain": [
       "         codigo       marca        tipo  categoria  preco_unitario  custo  \\\n",
       "0    MOLO000251    Logitech       Mouse          1           25.95    6.5   \n",
       "1    MOLO000192    Logitech       Mouse          2           19.95    5.0   \n",
       "2    CAHA000251     Hashtag      Camisa          1           25.00   11.0   \n",
       "3    CAHA000252     Hashtag      Camisa          2           25.00   11.0   \n",
       "4    MOMU000111  Multilaser       Mouse          1           11.99    3.4   \n",
       "..          ...         ...         ...        ...             ...    ...   \n",
       "288  ACAP000192       Apple  Acessorios          2           19.00    3.8   \n",
       "289  ACSA0009.3     Samsung  Acessorios          3            9.55    2.1   \n",
       "290  CEMO000271    Motorola     Celular          1          279.00   72.5   \n",
       "291  FOMO000152    Motorola        Fone          2          150.00   33.0   \n",
       "292  CEMO000223    Motorola     Celular          3          229.00   55.0   \n",
       "\n",
       "                  obs  \n",
       "0                 NaN  \n",
       "1                 NaN  \n",
       "2                 NaN  \n",
       "3    Conferir estoque  \n",
       "4                 NaN  \n",
       "..                ...  \n",
       "288               NaN  \n",
       "289               NaN  \n",
       "290               NaN  \n",
       "291               NaN  \n",
       "292               NaN  \n",
       "\n",
       "[293 rows x 7 columns]"
      ]
     },
     "metadata": {},
     "output_type": "display_data"
    }
   ],
   "source": [
    "tabela = pd.read_csv(\"produtos.csv\")\n",
    "display(tabela)"
   ]
  },
  {
   "cell_type": "markdown",
   "metadata": {},
   "source": [
    "### 4- Cadastrar um produto"
   ]
  },
  {
   "cell_type": "code",
   "execution_count": 42,
   "metadata": {},
   "outputs": [
    {
     "ename": "FailSafeException",
     "evalue": "PyAutoGUI fail-safe triggered from mouse moving to a corner of the screen. To disable this fail-safe, set pyautogui.FAILSAFE to False. DISABLING FAIL-SAFE IS NOT RECOMMENDED.",
     "output_type": "error",
     "traceback": [
      "\u001b[1;31m---------------------------------------------------------------------------\u001b[0m",
      "\u001b[1;31mFailSafeException\u001b[0m                         Traceback (most recent call last)",
      "Cell \u001b[1;32mIn[42], line 9\u001b[0m\n\u001b[0;32m      7\u001b[0m pg\u001b[38;5;241m.\u001b[39mclick(x\u001b[38;5;241m=\u001b[39m\u001b[38;5;241m826\u001b[39m, y\u001b[38;5;241m=\u001b[39m\u001b[38;5;241m304\u001b[39m)\n\u001b[0;32m      8\u001b[0m pg\u001b[38;5;241m.\u001b[39mwrite(codigo)\n\u001b[1;32m----> 9\u001b[0m \u001b[43mpg\u001b[49m\u001b[38;5;241;43m.\u001b[39;49m\u001b[43mpress\u001b[49m\u001b[43m(\u001b[49m\u001b[38;5;124;43m'\u001b[39;49m\u001b[38;5;124;43mtab\u001b[39;49m\u001b[38;5;124;43m'\u001b[39;49m\u001b[43m)\u001b[49m\n\u001b[0;32m     11\u001b[0m \u001b[38;5;66;03m#marca\u001b[39;00m\n\u001b[0;32m     12\u001b[0m marca \u001b[38;5;241m=\u001b[39m tabela\u001b[38;5;241m.\u001b[39mloc[linha, \u001b[38;5;124m\"\u001b[39m\u001b[38;5;124mmarca\u001b[39m\u001b[38;5;124m\"\u001b[39m]\n",
      "File \u001b[1;32mc:\\Users\\Jefferson Pedro\\AppData\\Local\\Programs\\Python\\Python312\\Lib\\site-packages\\pyautogui\\__init__.py:593\u001b[0m, in \u001b[0;36m_genericPyAutoGUIChecks.<locals>.wrapper\u001b[1;34m(*args, **kwargs)\u001b[0m\n\u001b[0;32m    591\u001b[0m \u001b[38;5;129m@functools\u001b[39m\u001b[38;5;241m.\u001b[39mwraps(wrappedFunction)\n\u001b[0;32m    592\u001b[0m \u001b[38;5;28;01mdef\u001b[39;00m\u001b[38;5;250m \u001b[39m\u001b[38;5;21mwrapper\u001b[39m(\u001b[38;5;241m*\u001b[39margs, \u001b[38;5;241m*\u001b[39m\u001b[38;5;241m*\u001b[39mkwargs):\n\u001b[1;32m--> 593\u001b[0m     \u001b[43mfailSafeCheck\u001b[49m\u001b[43m(\u001b[49m\u001b[43m)\u001b[49m\n\u001b[0;32m    594\u001b[0m     returnVal \u001b[38;5;241m=\u001b[39m wrappedFunction(\u001b[38;5;241m*\u001b[39margs, \u001b[38;5;241m*\u001b[39m\u001b[38;5;241m*\u001b[39mkwargs)\n\u001b[0;32m    595\u001b[0m     _handlePause(kwargs\u001b[38;5;241m.\u001b[39mget(\u001b[38;5;124m\"\u001b[39m\u001b[38;5;124m_pause\u001b[39m\u001b[38;5;124m\"\u001b[39m, \u001b[38;5;28;01mTrue\u001b[39;00m))\n",
      "File \u001b[1;32mc:\\Users\\Jefferson Pedro\\AppData\\Local\\Programs\\Python\\Python312\\Lib\\site-packages\\pyautogui\\__init__.py:1734\u001b[0m, in \u001b[0;36mfailSafeCheck\u001b[1;34m()\u001b[0m\n\u001b[0;32m   1732\u001b[0m \u001b[38;5;28;01mdef\u001b[39;00m\u001b[38;5;250m \u001b[39m\u001b[38;5;21mfailSafeCheck\u001b[39m():\n\u001b[0;32m   1733\u001b[0m     \u001b[38;5;28;01mif\u001b[39;00m FAILSAFE \u001b[38;5;129;01mand\u001b[39;00m \u001b[38;5;28mtuple\u001b[39m(position()) \u001b[38;5;129;01min\u001b[39;00m FAILSAFE_POINTS:\n\u001b[1;32m-> 1734\u001b[0m         \u001b[38;5;28;01mraise\u001b[39;00m FailSafeException(\n\u001b[0;32m   1735\u001b[0m             \u001b[38;5;124m\"\u001b[39m\u001b[38;5;124mPyAutoGUI fail-safe triggered from mouse moving to a corner of the screen. To disable this fail-safe, set pyautogui.FAILSAFE to False. DISABLING FAIL-SAFE IS NOT RECOMMENDED.\u001b[39m\u001b[38;5;124m\"\u001b[39m\n\u001b[0;32m   1736\u001b[0m         )\n",
      "\u001b[1;31mFailSafeException\u001b[0m: PyAutoGUI fail-safe triggered from mouse moving to a corner of the screen. To disable this fail-safe, set pyautogui.FAILSAFE to False. DISABLING FAIL-SAFE IS NOT RECOMMENDED."
     ]
    }
   ],
   "source": [
    "time.sleep(2)\n",
    "\n",
    "for linha in tabela.index:\n",
    "\n",
    "    #codigo\n",
    "    codigo = tabela.loc[linha, \"codigo\"]\n",
    "    pg.click(x=826, y=304)\n",
    "    pg.write(codigo)\n",
    "    pg.press('tab')\n",
    "\n",
    "    #marca\n",
    "    marca = tabela.loc[linha, \"marca\"]\n",
    "    pg.write(marca)\n",
    "    pg.press('tab')\n",
    "\n",
    "    #tipo\n",
    "    tipo = tabela.loc[linha, \"tipo\"]\n",
    "    pg.write(tipo)\n",
    "    pg.press('tab')\n",
    "\n",
    "    #categoria\n",
    "    categoria = tabela.loc[linha, \"categoria\"]\n",
    "    pg.write(str(categoria))\n",
    "    pg.press('tab')\n",
    "\n",
    "    #preço\n",
    "    preco = tabela.loc[linha, \"preco_unitario\"]\n",
    "    pg.write(str(preco))\n",
    "    pg.press('tab')\n",
    "\n",
    "    #custo\n",
    "    custo = tabela.loc[linha, \"custo\"]\n",
    "    pg.write(str(custo))\n",
    "    pg.press('tab')\n",
    "\n",
    "    #obs\n",
    "    obs = str(tabela.loc[linha, \"obs\"])\n",
    "    \n",
    "    if obs != 'nan' or obs != 'NaN':\n",
    "        pg.write(obs)\n",
    "    pg.press('tab')\n",
    "\n",
    "    #Enviar dados\n",
    "    pg.press('enter')\n",
    "\n",
    "    pg.scroll(10000) #rola a página para cima"
   ]
  },
  {
   "cell_type": "markdown",
   "metadata": {},
   "source": [
    "### 5- Repetir o passo 4 para todos os campos"
   ]
  },
  {
   "cell_type": "code",
   "execution_count": null,
   "metadata": {},
   "outputs": [],
   "source": []
  }
 ],
 "metadata": {
  "kernelspec": {
   "display_name": "Python 3",
   "language": "python",
   "name": "python3"
  },
  "language_info": {
   "codemirror_mode": {
    "name": "ipython",
    "version": 3
   },
   "file_extension": ".py",
   "mimetype": "text/x-python",
   "name": "python",
   "nbconvert_exporter": "python",
   "pygments_lexer": "ipython3",
   "version": "3.12.3"
  }
 },
 "nbformat": 4,
 "nbformat_minor": 2
}
